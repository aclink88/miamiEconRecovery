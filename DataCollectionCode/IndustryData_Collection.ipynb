{
 "cells": [
  {
   "cell_type": "code",
   "execution_count": 3,
   "id": "41be0cc7",
   "metadata": {},
   "outputs": [
    {
     "name": "stderr",
     "output_type": "stream",
     "text": [
      "PROJ: proj_create_from_database: Cannot find proj.db\n"
     ]
    }
   ],
   "source": [
    "import pandas as pd\n",
    "import requests\n",
    "import json\n",
    "import config\n",
    "import io\n",
    "\n",
    "import geopandas as gpd\n",
    "from geopandas import GeoDataFrame, points_from_xy\n",
    "from cartoframes import read_carto, to_carto\n",
    "from cartoframes.auth import set_default_credentials, Credentials\n",
    "from cartoframes.viz import Map, Layer, basemaps\n",
    "from cartoframes.data.clients import SQLClient"
   ]
  },
  {
   "cell_type": "code",
   "execution_count": 4,
   "id": "2c6d0a3b",
   "metadata": {},
   "outputs": [],
   "source": [
    "credentials = pd.read_csv('credentials.csv',header=0)\n",
    "username = credentials.columns[0]\n",
    "api_key = credentials.values[0][0]\n",
    "\n",
    "set_default_credentials(username=username,api_key=api_key)\n",
    "\n",
    "credentials = Credentials(username=username,api_key=api_key)\n",
    "\n",
    "sql = SQLClient(credentials)"
   ]
  },
  {
   "cell_type": "code",
   "execution_count": 5,
   "id": "89a05069",
   "metadata": {},
   "outputs": [],
   "source": [
    "zipper = pd.read_csv('Miami Zip codes.csv')\n",
    "zips = zipper['Zip Code'].tolist()\n",
    "zips.sort()"
   ]
  },
  {
   "cell_type": "code",
   "execution_count": 6,
   "id": "a509feb6",
   "metadata": {},
   "outputs": [],
   "source": [
    "df = pd.DataFrame()\n",
    "\n",
    "## to meet Git/Carto requirements\n",
    "## can only use 2011 and forward but\n",
    "## can go as far back as 1999 tho\n",
    "for y in range(1999, 2020):\n",
    "    \n",
    "    HOST = \"https://api.census.gov/data\"\n",
    "    year = str(y)\n",
    "    if y==2019:\n",
    "        dataset = 'cbp'\n",
    "    else:\n",
    "        dataset = 'zbp'\n",
    "    type_ = '?get='\n",
    "    base_url = \"/\".join([HOST, year, dataset, type_])#, get_vars, location])\n",
    "    \n",
    "    if y==2019 or y==2018 or y==2017:\n",
    "        var = 'ESTAB,EMP,EMPSZES,EMPSZES_LABEL,PAYANN,NAICS2017,NAICS2017_LABEL'\n",
    "    elif y==2016 or y==2015 or y==2014 or y==2013 or y==2012:\n",
    "        var = 'ESTAB,EMP,EMPSZES,EMPSZES_TTL,PAYANN,NAICS2012,NAICS2012_TTL'\n",
    "    elif y==2011 or y==2010 or y==2009 or y==2008:\n",
    "        var = 'ESTAB,EMP,EMPSZES,EMPSZES_TTL,PAYANN,NAICS2007,NAICS_TTL'\n",
    "    elif y==2007 or y==2006 or y==2005 or y==2004 or y==2003:\n",
    "        var = 'ESTAB,EMP,EMPSZES,EMPSZES_TTL,PAYANN,NAICS2002,NAICS_TTL'\n",
    "    ## Query error with 1998\n",
    "    ## Logged by Census but cannot run as of 9/18/21\n",
    "    elif y==2002 or y==2001 or y==2000 or y==1999 or y==1998:\n",
    "        var = 'ESTAB,EMP,EMPSZES,EMPSZES_TTL,PAYANN,NAICS1997,NAICS_TTL'\n",
    "    \n",
    "    loc = '&for=zipcode:'+','.join(map(str,zips))\n",
    "    \n",
    "    full_url = base_url + var + loc\n",
    "    \n",
    "    data = requests.get(full_url).content\n",
    "    df1 = pd.read_csv(io.StringIO(data.decode('utf-8')))\n",
    "    df1 = df1.replace('\\]','',regex=True).replace('\\[','',regex=True).replace('\\\"','',regex=True)\n",
    "    df1 = df1.iloc[:,:-1]\n",
    "    df1['year'] = y\n",
    "    cols = ['estab', 'emp', 'empszes', 'est_size', 'payroll', 'naics', 'ind', 'zip', 'year']\n",
    "    \n",
    "    for c in range(0,len(cols)):\n",
    "        df1.rename(columns={df1.columns[c]:cols[c]}, inplace=True)\n",
    "    ## 2016 & before includes all establishment sizes variable rows\n",
    "    ## even if there were no establishments of that size, so will remove\n",
    "    df1 = df1[df1['estab']!='0']\n",
    "\n",
    "    df = df.append(df1,ignore_index=True)"
   ]
  },
  {
   "cell_type": "code",
   "execution_count": 14,
   "id": "8cd86a58",
   "metadata": {},
   "outputs": [],
   "source": [
    "## Short of 3 provides most uniformity; 4 becomes too much\n",
    "df['naics_short'] = df['naics'].apply(str).str[:3]"
   ]
  },
  {
   "cell_type": "code",
   "execution_count": 15,
   "id": "3a0b4754",
   "metadata": {},
   "outputs": [],
   "source": [
    "## Limit to 2011-2019 to meet size restraints\n",
    "df = df[df['year'] > 2010]"
   ]
  },
  {
   "cell_type": "code",
   "execution_count": 16,
   "id": "e93c92b5",
   "metadata": {},
   "outputs": [],
   "source": [
    "## Export to csv for easy reload\n",
    "df.to_csv(\"ind.csv\", sep=\",\", index=False)"
   ]
  },
  {
   "cell_type": "code",
   "execution_count": 8,
   "id": "64537e76",
   "metadata": {},
   "outputs": [],
   "source": [
    "## Push to Carto\n",
    "## Can't push to Carto\n",
    "## DB quota exceeded\n",
    "# to_carto(df, 'ind', if_exists='replace')"
   ]
  },
  {
   "cell_type": "code",
   "execution_count": 3,
   "id": "fd2060f9",
   "metadata": {},
   "outputs": [
    {
     "name": "stdout",
     "output_type": "stream",
     "text": [
      "https://api.census.gov/data/2011/zbp/?get=ESTAB,EMP,EMPSZES,EMPSZES_TTL,PAYANN,NAICS2007,NAICS_TTL&for=zipcode:33010,33012,33013,33014,33015,33016,33018,33030,33031,33032,33033,33034,33035,33039,33054,33055,33056,33101,33109,33122,33125,33126,33127,33128,33129,33130,33131,33132,33133,33134,33135,33136,33137,33138,33139,33140,33141,33142,33143,33144,33145,33146,33147,33149,33150,33154,33155,33156,33157,33158,33160,33161,33162,33165,33166,33167,33168,33169,33170,33172,33173,33174,33175,33176,33177,33178,33179,33180,33181,33182,33183,33184,33185,33186,33187,33189,33190,33193,33194,33196\n"
     ]
    }
   ],
   "source": [
    "df = pd.DataFrame()\n",
    "\n",
    "for y in range(2011, 2012):\n",
    "    \n",
    "    HOST = \"https://api.census.gov/data\"\n",
    "    year = str(y)\n",
    "    if y==2019:\n",
    "        dataset = 'cbp'\n",
    "    else:\n",
    "        dataset = 'zbp'\n",
    "    type_ = '?get='\n",
    "    base_url = \"/\".join([HOST, year, dataset, type_])#, get_vars, location])\n",
    "    \n",
    "    if y==2019 or y==2018 or y==2017:\n",
    "        var = 'ESTAB,EMP,EMPSZES,EMPSZES_LABEL,PAYANN,NAICS2017,NAICS2017_LABEL'\n",
    "    elif y==2016 or y==2015 or y==2014 or y==2013 or y==2012:\n",
    "        var = 'ESTAB,EMP,EMPSZES,EMPSZES_TTL,PAYANN,NAICS2012,NAICS2012_TTL'\n",
    "    elif y==2011 or y==2010 or y==2009 or y==2008:\n",
    "        var = 'ESTAB,EMP,EMPSZES,EMPSZES_TTL,PAYANN,NAICS2007,NAICS_TTL'\n",
    "    elif y==2007 or y==2006 or y==2005 or y==2004 or y==2003:\n",
    "        var = 'ESTAB,EMP,EMPSZES,EMPSZES_TTL,PAYANN,NAICS2002,NAICS_TTL'\n",
    "    ## Query error with 1998\n",
    "    ## Logged by Census but cannot run as of 9/18/21\n",
    "    elif y==2002 or y==2001 or y==2000 or y==1999 or y==1998:\n",
    "        var = 'ESTAB,EMP,EMPSZES,EMPSZES_TTL,PAYANN,NAICS1997,NAICS_TTL'\n",
    "    \n",
    "    loc = '&for=zipcode:'+','.join(map(str,zips))\n",
    "    \n",
    "    full_url = base_url + var + loc\n",
    "    \n",
    "    print(full_url)"
   ]
  },
  {
   "cell_type": "code",
   "execution_count": null,
   "id": "8b06b33f",
   "metadata": {},
   "outputs": [],
   "source": []
  }
 ],
 "metadata": {
  "kernelspec": {
   "display_name": "Python 3 (ipykernel)",
   "language": "python",
   "name": "python3"
  },
  "language_info": {
   "codemirror_mode": {
    "name": "ipython",
    "version": 3
   },
   "file_extension": ".py",
   "mimetype": "text/x-python",
   "name": "python",
   "nbconvert_exporter": "python",
   "pygments_lexer": "ipython3",
   "version": "3.8.8"
  }
 },
 "nbformat": 4,
 "nbformat_minor": 5
}
