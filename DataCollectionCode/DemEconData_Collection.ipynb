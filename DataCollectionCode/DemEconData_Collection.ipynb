{
 "cells": [
  {
   "cell_type": "code",
   "execution_count": 1,
   "id": "c1425789",
   "metadata": {},
   "outputs": [
    {
     "name": "stderr",
     "output_type": "stream",
     "text": [
      "PROJ: proj_create_from_database: Cannot find proj.db\n"
     ]
    }
   ],
   "source": [
    "import pandas as pd\n",
    "import numpy as np\n",
    "import requests\n",
    "import json\n",
    "import config\n",
    "import io\n",
    "import os\n",
    "import dotenv\n",
    "import sys\n",
    "sys.tracebacklimit = 0\n",
    "\n",
    "import geopandas as gpd\n",
    "from geopandas import GeoDataFrame, points_from_xy\n",
    "from cartoframes import read_carto, to_carto\n",
    "from cartoframes.auth import set_default_credentials, Credentials\n",
    "from cartoframes.viz import Map, Layer, basemaps\n",
    "from cartoframes.data.clients import SQLClient"
   ]
  },
  {
   "cell_type": "code",
   "execution_count": 2,
   "id": "33d0d330",
   "metadata": {},
   "outputs": [],
   "source": [
    "credentials = pd.read_csv('credentials.csv',header=0)\n",
    "username = credentials.columns[0]\n",
    "api_key = credentials.values[0][0]\n",
    "\n",
    "set_default_credentials(username=username,api_key=api_key)\n",
    "\n",
    "credentials = Credentials(username=username,api_key=api_key)\n",
    "\n",
    "sql = SQLClient(credentials)"
   ]
  },
  {
   "cell_type": "code",
   "execution_count": 3,
   "id": "5b16b6ac",
   "metadata": {},
   "outputs": [],
   "source": [
    "zipper = pd.read_csv('Miami Zip codes.csv')\n",
    "zips = zipper['Zip Code'].tolist()\n",
    "zips.sort()"
   ]
  },
  {
   "cell_type": "code",
   "execution_count": 4,
   "id": "4f7cf649",
   "metadata": {},
   "outputs": [],
   "source": [
    "dotenv.load_dotenv()\n",
    "key = os.getenv('ACSkey')"
   ]
  },
  {
   "cell_type": "markdown",
   "id": "5f6648cc",
   "metadata": {},
   "source": [
    "### Means of Transportation to Work"
   ]
  },
  {
   "cell_type": "code",
   "execution_count": 5,
   "id": "b60ce148",
   "metadata": {},
   "outputs": [],
   "source": [
    "tran = pd.DataFrame()\n",
    "\n",
    "## Zip Code level geography not supported prior to 2011\n",
    "for y in range(2011, 2020):\n",
    "    \n",
    "    HOST = \"https://api.census.gov/data\"\n",
    "    year = str(y)\n",
    "    dataset = 'acs/acs5'\n",
    "    type_ = '?get='\n",
    "    base_url = \"/\".join([HOST, year, dataset, type_])#, get_vars, location])\n",
    "    \n",
    "    var = 'NAME,B08301_001E,B08301_003E,B08301_004E,B08301_010E,B08301_016E,B08301_017E,B08301_018E,B08301_019E,'\\\n",
    "            'B08301_020E,B08301_021E'\n",
    "    \n",
    "    loc = '&for=zip%20code%20tabulation%20area:'+','.join(map(str,zips))+'&for=county:086&in=state:12'\n",
    "    \n",
    "    k = '&key='+key\n",
    "    \n",
    "    full_url = base_url + var + loc + k\n",
    "    \n",
    "    data = requests.get(full_url).content\n",
    "    df1 = pd.read_csv(io.StringIO(data.decode('utf-8')))\n",
    "    df1 = df1.replace('\\]','',regex=True).replace('\\[','',regex=True).replace('\\\"','',regex=True)\n",
    "    df1 = df1.iloc[:,:-1]\n",
    "    df1['year'] = y\n",
    "    col_names = ['zcta','total','drove','carpool','publictrans','taxi','motorbike','bike','walk','other','wfh',\n",
    "                 'state','zip','year']\n",
    "    \n",
    "    for i in range(0,len(col_names),1):\n",
    "        df1.rename(columns={df1.columns[i]:col_names[i]},inplace=True) \n",
    "    tran = tran.append(df1,ignore_index=True)\n",
    "## For some reason 2019 data being added twice\n",
    "## remove using drop_duplicates\n",
    "## Should be 720 rows when done (80 zips by 9 years)\n",
    "tran.drop_duplicates(inplace=True)\n",
    "## drop superfluous columns\n",
    "tran.drop(['zcta', 'state'], axis=1, inplace=True)"
   ]
  },
  {
   "cell_type": "code",
   "execution_count": 5,
   "id": "3fd3279a",
   "metadata": {},
   "outputs": [],
   "source": [
    "## Export to csv\n",
    "tran.to_csv(\"tran.csv\", sep=\",\", index=False)"
   ]
  },
  {
   "cell_type": "code",
   "execution_count": 18,
   "id": "88081521",
   "metadata": {},
   "outputs": [
    {
     "name": "stdout",
     "output_type": "stream",
     "text": [
      "Success! Data uploaded to table \"tran\" correctly\n"
     ]
    },
    {
     "data": {
      "text/plain": [
       "'tran'"
      ]
     },
     "execution_count": 18,
     "metadata": {},
     "output_type": "execute_result"
    }
   ],
   "source": [
    "## Push to Carto\n",
    "to_carto(tran, 'tran', if_exists='replace')"
   ]
  },
  {
   "cell_type": "markdown",
   "id": "60893e85",
   "metadata": {},
   "source": [
    "### Additional Data to Collect\n",
    "\n",
    "* Housing Unit Value/Median Area Housing Value (Zillow access; got Census data)\n",
    "* Travel time to work\n",
    "* X National Area Risk Index (FEMA) - wasn't fully released until July 2021\n",
    "* X Social Vulnerability Index (CDC) - only available at non-consistent intervals (2010,2014,2016,2018)"
   ]
  },
  {
   "cell_type": "markdown",
   "id": "8a6f9461",
   "metadata": {},
   "source": [
    "### Labor Force Participation Rate"
   ]
  },
  {
   "cell_type": "code",
   "execution_count": 6,
   "id": "cf723d12",
   "metadata": {},
   "outputs": [],
   "source": [
    "lfp = pd.DataFrame()\n",
    "\n",
    "## Zip Code level geography not supported prior to 2011\n",
    "for y in range(2011, 2020):\n",
    "    \n",
    "    HOST = \"https://api.census.gov/data\"\n",
    "    year = str(y)\n",
    "    dataset = 'acs/acs5'\n",
    "    type_ = '?get='\n",
    "    base_url = \"/\".join([HOST, year, dataset, type_])#, get_vars, location])\n",
    "    \n",
    "    var = 'NAME,B23025_001E,B23025_002E,B23025_003E,B23025_004E,B23025_005E,B23025_006E,B23025_007E'\n",
    "    \n",
    "    loc = '&for=zip%20code%20tabulation%20area:'+','.join(map(str,zips))+'&for=county:086&in=state:12'\n",
    "    \n",
    "    k = '&key='+key\n",
    "    \n",
    "    full_url = base_url + var + loc + k\n",
    "    \n",
    "    data = requests.get(full_url).content\n",
    "    df1 = pd.read_csv(io.StringIO(data.decode('utf-8')))\n",
    "    df1 = df1.replace('\\]','',regex=True).replace('\\[','',regex=True).replace('\\\"','',regex=True)\n",
    "    df1 = df1.iloc[:,:-1]\n",
    "    df1['year'] = y\n",
    "    col_names = ['zcta','pop','labforce','civlf','emp','unemp','military','notinlf','state','zip','year']\n",
    "\n",
    "    for i in range(0,len(col_names),1):\n",
    "        df1.rename(columns={df1.columns[i]:col_names[i]},inplace=True) \n",
    "    lfp = lfp.append(df1,ignore_index=True)\n",
    "\n",
    "lfp.drop_duplicates(inplace=True)\n",
    "## Create labor force participation rate variable\n",
    "lfp['part_rate'] = lfp['labforce']/lfp['pop']\n",
    "## Create civilian force participation rate variable\n",
    "lfp['civ_rate'] = lfp['civlf']/lfp['pop']\n",
    "## drop superfluous columns\n",
    "lfp.drop(['zcta', 'state'], axis=1, inplace=True)"
   ]
  },
  {
   "cell_type": "code",
   "execution_count": 7,
   "id": "d0799e5c",
   "metadata": {},
   "outputs": [],
   "source": [
    "## Export to csv\n",
    "lfp.to_csv(\"lfp.csv\", sep=\",\", index=False)"
   ]
  },
  {
   "cell_type": "code",
   "execution_count": 8,
   "id": "f038ea7e",
   "metadata": {},
   "outputs": [
    {
     "name": "stdout",
     "output_type": "stream",
     "text": [
      "Success! Data uploaded to table \"lfp\" correctly\n"
     ]
    },
    {
     "data": {
      "text/plain": [
       "'lfp'"
      ]
     },
     "execution_count": 8,
     "metadata": {},
     "output_type": "execute_result"
    }
   ],
   "source": [
    "## Push to Carto\n",
    "to_carto(lfp, 'lfp', if_exists='replace')"
   ]
  },
  {
   "cell_type": "markdown",
   "id": "eefe93a3",
   "metadata": {},
   "source": [
    "### Educational Attainment"
   ]
  },
  {
   "cell_type": "code",
   "execution_count": 7,
   "id": "41e9e990",
   "metadata": {},
   "outputs": [],
   "source": [
    "ed = pd.DataFrame()\n",
    "\n",
    "## Zip Code level geography not supported prior to 2011\n",
    "for y in range(2011, 2020):\n",
    "    \n",
    "    HOST = \"https://api.census.gov/data\"\n",
    "    year = str(y)\n",
    "    dataset = 'acs/acs5'\n",
    "    type_ = '?get='\n",
    "    base_url = \"/\".join([HOST, year, dataset, type_])#, get_vars, location])\n",
    "    \n",
    "    ## 2nd var is total pop 16 years & over\n",
    "    ## these bachelor stats are for ages 25 to 64\n",
    "    var = 'NAME,B23025_001E,B23006_023E,B23006_024E,B23006_025E,B23006_026E,B23006_027E,B23006_028E,B23006_029E'\n",
    "    \n",
    "    loc = '&for=zip%20code%20tabulation%20area:'+','.join(map(str,zips))+'&for=county:086&in=state:12'\n",
    "    \n",
    "    k = '&key='+key\n",
    "    \n",
    "    full_url = base_url + var + loc + k\n",
    "    \n",
    "    data = requests.get(full_url).content\n",
    "    df1 = pd.read_csv(io.StringIO(data.decode('utf-8')))\n",
    "    df1 = df1.replace('\\]','',regex=True).replace('\\[','',regex=True).replace('\\\"','',regex=True)\n",
    "    df1 = df1.iloc[:,:-1]\n",
    "    df1['year'] = y\n",
    "    col_names = ['zcta','tot','bach','bachlf','bachmil','bachciv','bachemp','bachunemp','bachnotinlf','state','zip','year']\n",
    "\n",
    "    for i in range(0,len(col_names),1):\n",
    "        df1.rename(columns={df1.columns[i]:col_names[i]},inplace=True) \n",
    "    ed = ed.append(df1,ignore_index=True)\n",
    "\n",
    "ed.drop_duplicates(inplace=True)\n",
    "## Create bachelor's in labor force rate variable\n",
    "ed['per_bachlf'] = ed['bachlf']/ed['tot']\n",
    "## Create bachelor's in civilian labor force rate variable\n",
    "ed['per_bachciv'] = ed['bachciv']/ed['tot']\n",
    "## drop superfluous columns\n",
    "ed.drop(['zcta', 'state'], axis=1, inplace=True)"
   ]
  },
  {
   "cell_type": "code",
   "execution_count": 9,
   "id": "2d73d8b5",
   "metadata": {},
   "outputs": [],
   "source": [
    "## Export to csv\n",
    "ed.to_csv(\"ed.csv\", sep=\",\", index=False)"
   ]
  },
  {
   "cell_type": "code",
   "execution_count": 10,
   "id": "e96282f7",
   "metadata": {},
   "outputs": [
    {
     "name": "stdout",
     "output_type": "stream",
     "text": [
      "Success! Data uploaded to table \"ed\" correctly\n"
     ]
    },
    {
     "data": {
      "text/plain": [
       "'ed'"
      ]
     },
     "execution_count": 10,
     "metadata": {},
     "output_type": "execute_result"
    }
   ],
   "source": [
    "## Push to Carto\n",
    "to_carto(ed, 'ed', if_exists='replace')"
   ]
  },
  {
   "cell_type": "markdown",
   "id": "55a92e93",
   "metadata": {},
   "source": [
    "### Field of Bachelor's Degree"
   ]
  },
  {
   "cell_type": "code",
   "execution_count": 8,
   "id": "83b6b93d",
   "metadata": {},
   "outputs": [],
   "source": [
    "maj = pd.DataFrame()\n",
    "\n",
    "## Zip Code level geography not supported prior to 2013\n",
    "for y in range(2013, 2020):\n",
    "    \n",
    "    HOST = \"https://api.census.gov/data\"\n",
    "    year = str(y)\n",
    "    dataset = 'acs/acs5'\n",
    "    type_ = '?get='\n",
    "    base_url = \"/\".join([HOST, year, dataset, type_])#, get_vars, location])\n",
    "    \n",
    "    ## total bachelor's here includes for all ages\n",
    "    var = 'NAME,B15012_001E,B15012_002E,B15012_003E,B15012_004E,B15012_005E,B15012_006E,B15012_007E,' \\\n",
    "    'B15012_008E,B15012_009E,B15012_010E,B15012_011E,B15012_012E,B15012_013E,B15012_014E,B15012_015E,B15012_016E'\n",
    "    \n",
    "    loc = '&for=zip%20code%20tabulation%20area:'+','.join(map(str,zips))+'&for=county:086&in=state:12'\n",
    "    \n",
    "    k = '&key='+key\n",
    "    \n",
    "    full_url = base_url + var + loc + k\n",
    "    \n",
    "    data = requests.get(full_url).content\n",
    "    df1 = pd.read_csv(io.StringIO(data.decode('utf-8')))\n",
    "    df1 = df1.replace('\\]','',regex=True).replace('\\[','',regex=True).replace('\\\"','',regex=True)\n",
    "    df1 = df1.iloc[:,:-1]\n",
    "    df1['year'] = y\n",
    "    col_names = ['zcta','tot_bach','pc_math_stat','bio_ag_es','phys_rel_sci','psych','social_sci','eng','multi_sci',\n",
    "                 'relat_fields','biz','educ','lit_lang','lib_hist','viz_perf','comm','other_art_hum','state','zip','year']\n",
    "\n",
    "    for i in range(0,len(col_names),1):\n",
    "        df1.rename(columns={df1.columns[i]:col_names[i]},inplace=True) \n",
    "    maj = maj.append(df1,ignore_index=True)\n",
    "\n",
    "maj.drop_duplicates(inplace=True)\n",
    "## Add science & engineering degrees\n",
    "maj['sci_eng'] = maj.iloc[:, 2:10].sum(axis=1)\n",
    "## Add arts & humanities degrees\n",
    "maj['arts_hum'] = maj.iloc[:, 12:17].sum(axis=1)\n",
    "## drop superfluous columns\n",
    "maj.drop(['zcta', 'state'], axis=1, inplace=True)"
   ]
  },
  {
   "cell_type": "code",
   "execution_count": 11,
   "id": "21b6d0e6",
   "metadata": {},
   "outputs": [],
   "source": [
    "## Export to csv\n",
    "maj.to_csv(\"maj.csv\", sep=\",\", index=False)"
   ]
  },
  {
   "cell_type": "code",
   "execution_count": 12,
   "id": "8f7a4bed",
   "metadata": {},
   "outputs": [
    {
     "name": "stdout",
     "output_type": "stream",
     "text": [
      "Success! Data uploaded to table \"maj\" correctly\n"
     ]
    },
    {
     "data": {
      "text/plain": [
       "'maj'"
      ]
     },
     "execution_count": 12,
     "metadata": {},
     "output_type": "execute_result"
    }
   ],
   "source": [
    "## Push to Carto\n",
    "to_carto(maj, 'maj', if_exists='replace')"
   ]
  },
  {
   "cell_type": "markdown",
   "id": "98a4b676",
   "metadata": {},
   "source": [
    "### Internet Access"
   ]
  },
  {
   "cell_type": "code",
   "execution_count": 9,
   "id": "6dd67d80",
   "metadata": {},
   "outputs": [],
   "source": [
    "net = pd.DataFrame()\n",
    "\n",
    "## Zip Code level geography not supported prior to 2017\n",
    "for y in range(2017, 2020):\n",
    "    \n",
    "    HOST = \"https://api.census.gov/data\"\n",
    "    year = str(y)\n",
    "    dataset = 'acs/acs5'\n",
    "    type_ = '?get='\n",
    "    base_url = \"/\".join([HOST, year, dataset, type_])#, get_vars, location])\n",
    "    \n",
    "    ## 3rd variable (device) counts any computing device, inlcuding smartphones\n",
    "    ## 4th variable (pc) only counts if desktop or laptop\n",
    "    var = 'NAME,B28001_001E,B28001_002E,B28001_003E,B28002_002E,B28002_006E'\n",
    "    \n",
    "    loc = '&for=zip%20code%20tabulation%20area:'+','.join(map(str,zips))+'&for=county:086&in=state:12'\n",
    "    \n",
    "    k = '&key='+key\n",
    "    \n",
    "    full_url = base_url + var + loc + k\n",
    "    \n",
    "    data = requests.get(full_url).content\n",
    "    df1 = pd.read_csv(io.StringIO(data.decode('utf-8')))\n",
    "    df1 = df1.replace('\\]','',regex=True).replace('\\[','',regex=True).replace('\\\"','',regex=True)\n",
    "    df1 = df1.iloc[:,:-1]\n",
    "    df1['year'] = y\n",
    "    col_names = ['zcta','households','device','pc','internet','cell_data','state','zip','year']\n",
    "\n",
    "    for i in range(0,len(col_names),1):\n",
    "        df1.rename(columns={df1.columns[i]:col_names[i]},inplace=True) \n",
    "    net = net.append(df1,ignore_index=True)\n",
    "\n",
    "net.drop_duplicates(inplace=True)\n",
    "## Percent of households columns\n",
    "net['per_pc'] = net['pc']/net['households']\n",
    "net['per_int'] = net['internet']/net['households']\n",
    "## Internet not including cellular data plan\n",
    "net['int_noCell'] = net['internet'] - net['cell_data']\n",
    "net['per_int_noCell'] = net['int_noCell']/net['households']\n",
    "## drop superfluous columns\n",
    "net.drop(['zcta', 'state', 'cell_data'], axis=1, inplace=True)"
   ]
  },
  {
   "cell_type": "code",
   "execution_count": 13,
   "id": "78c8bb2e",
   "metadata": {},
   "outputs": [],
   "source": [
    "## Export to csv\n",
    "net.to_csv(\"net.csv\", sep=\",\", index=False)"
   ]
  },
  {
   "cell_type": "code",
   "execution_count": 14,
   "id": "29329ca1",
   "metadata": {},
   "outputs": [
    {
     "name": "stdout",
     "output_type": "stream",
     "text": [
      "Success! Data uploaded to table \"net\" correctly\n"
     ]
    },
    {
     "data": {
      "text/plain": [
       "'net'"
      ]
     },
     "execution_count": 14,
     "metadata": {},
     "output_type": "execute_result"
    }
   ],
   "source": [
    "## Push to Carto\n",
    "to_carto(net, 'net', if_exists='replace')"
   ]
  },
  {
   "cell_type": "markdown",
   "id": "8549a922",
   "metadata": {},
   "source": [
    "### Housing Statistics"
   ]
  },
  {
   "cell_type": "code",
   "execution_count": 5,
   "id": "e9af74b4",
   "metadata": {},
   "outputs": [],
   "source": [
    "hom = pd.DataFrame()\n",
    "\n",
    "## Zip Code level geography not supported prior to 2017\n",
    "for y in range(2011, 2020):\n",
    "    \n",
    "    HOST = \"https://api.census.gov/data\"\n",
    "    year = str(y)\n",
    "    dataset = 'acs/acs5'\n",
    "    type_ = '?get='\n",
    "    base_url = \"/\".join([HOST, year, dataset, type_])#, get_vars, location])\n",
    "    \n",
    "    #B25123_001E same as B25002_002E (occupied units)\n",
    "    var = 'NAME,B25077_001E,B25035_001E,B25001_001E,B25002_002E,B25002_003E,B25123_002E,B25123_007E,B25123_008E,B25123_013E'\n",
    "    \n",
    "    loc = '&for=zip%20code%20tabulation%20area:'+','.join(map(str,zips))+'&for=county:086&in=state:12'\n",
    "    \n",
    "    k = '&key='+key\n",
    "    \n",
    "    full_url = base_url + var + loc + k\n",
    "    \n",
    "    data = requests.get(full_url).content\n",
    "    df1 = pd.read_csv(io.StringIO(data.decode('utf-8')))\n",
    "    df1 = df1.replace('\\]','',regex=True).replace('\\[','',regex=True).replace('\\\"','',regex=True)\n",
    "    df1 = df1.iloc[:,:-1]\n",
    "    df1['year'] = y\n",
    "    col_names = ['zcta','medval','medyear','tot_units','occup','vacant','own_occ','own_std',\n",
    "                 'rent_occ','rent_std','state','zip','year']\n",
    "\n",
    "    for i in range(0,len(col_names),1):\n",
    "        df1.rename(columns={df1.columns[i]:col_names[i]},inplace=True) \n",
    "    hom = hom.append(df1,ignore_index=True)\n",
    "\n",
    "hom.drop_duplicates(inplace=True)\n",
    "## Substandard households columns\n",
    "hom['substd'] = hom['occup'] - (hom['own_std']+hom['rent_std'])\n",
    "## drop superfluous columns\n",
    "hom.drop(['zcta', 'state'], axis=1, inplace=True)"
   ]
  },
  {
   "cell_type": "code",
   "execution_count": 21,
   "id": "4529c0e1",
   "metadata": {},
   "outputs": [],
   "source": [
    "## Export to csv\n",
    "hom.to_csv(\"hom.csv\", sep=\",\", index=False)"
   ]
  },
  {
   "cell_type": "code",
   "execution_count": 16,
   "id": "881a4289",
   "metadata": {},
   "outputs": [
    {
     "name": "stdout",
     "output_type": "stream",
     "text": [
      "Success! Data uploaded to table \"hom\" correctly\n"
     ]
    },
    {
     "data": {
      "text/plain": [
       "'hom'"
      ]
     },
     "execution_count": 16,
     "metadata": {},
     "output_type": "execute_result"
    }
   ],
   "source": [
    "## Push to Carto\n",
    "to_carto(hom, 'hom', if_exists='replace')"
   ]
  },
  {
   "cell_type": "markdown",
   "id": "f0b81491",
   "metadata": {},
   "source": [
    "### "
   ]
  },
  {
   "cell_type": "markdown",
   "id": "29117074",
   "metadata": {},
   "source": [
    "### Income & PopDense"
   ]
  },
  {
   "cell_type": "code",
   "execution_count": 5,
   "id": "551d1f1d",
   "metadata": {},
   "outputs": [],
   "source": [
    "inc = pd.DataFrame()\n",
    "\n",
    "## Zip Code level geography not supported prior to 2011\n",
    "for y in range(2011, 2020):\n",
    "    \n",
    "    HOST = \"https://api.census.gov/data\"\n",
    "    year = str(y)\n",
    "    dataset = 'acs/acs5'\n",
    "    type_ = '?get='\n",
    "    base_url = \"/\".join([HOST, year, dataset, type_])#, get_vars, location])\n",
    "    \n",
    "    var = 'NAME,B17026_001E,B19001_001E,B19013_001E,B19025_001E,B19083_001E,B19101_001E,B19113_001E,B19301_001E,B01003_001E'\n",
    "    \n",
    "    loc = '&for=zip%20code%20tabulation%20area:'+','.join(map(str,zips))+'&for=county:086&in=state:12'\n",
    "    \n",
    "    k = '&key='+key\n",
    "    \n",
    "    full_url = base_url + var + loc + k\n",
    "    \n",
    "    data = requests.get(full_url).content\n",
    "    df1 = pd.read_csv(io.StringIO(data.decode('utf-8')))\n",
    "    df1 = df1.replace('\\]','',regex=True).replace('\\[','',regex=True).replace('\\\"','',regex=True)\n",
    "    df1 = df1.iloc[:,:-1]\n",
    "    df1['year'] = y\n",
    "    col_names = ['zcta','Inc2Pov','housInc','MedhousInc','agghousinc','gini','famInc','MedfamInc','incPercap','pop','state','zip','year']\n",
    "\n",
    "    for i in range(0,len(col_names),1):\n",
    "        df1.rename(columns={df1.columns[i]:col_names[i]},inplace=True) \n",
    "    inc = inc.append(df1,ignore_index=True)\n",
    "\n",
    "inc.drop_duplicates(inplace=True)\n",
    "## drop superfluous columns\n",
    "inc.drop(['zcta', 'state'], axis=1, inplace=True)"
   ]
  },
  {
   "cell_type": "code",
   "execution_count": 6,
   "id": "91b5e35d",
   "metadata": {},
   "outputs": [],
   "source": [
    "area = pd.read_csv('zipArea.csv')\n",
    "area = area[['ZCTA','LandSqMi']]\n",
    "area = area[area['ZCTA'].isin(zips)].reset_index(drop=True)\n",
    "area.rename({'ZCTA':'zip'},axis=1,inplace=True)\n",
    "area['zip'] = area.zip.astype(str)\n",
    "inc = inc.merge(area, how='outer', on='zip')\n",
    "inc['meanhousinc'] = inc['agghousinc']/inc['housInc']\n",
    "inc['popDens'] = inc['pop']/inc['LandSqMi']\n",
    "inc.drop(['pop', 'LandSqMi'], axis=1, inplace=True)"
   ]
  },
  {
   "cell_type": "code",
   "execution_count": 10,
   "id": "693f27de",
   "metadata": {},
   "outputs": [],
   "source": [
    "## Export to csv\n",
    "inc.to_csv(\"inc.csv\", sep=\",\", index=False)"
   ]
  },
  {
   "cell_type": "code",
   "execution_count": 11,
   "id": "c02d5480",
   "metadata": {},
   "outputs": [
    {
     "name": "stdout",
     "output_type": "stream",
     "text": [
      "Success! Data uploaded to table \"inc\" correctly\n"
     ]
    },
    {
     "data": {
      "text/plain": [
       "'inc'"
      ]
     },
     "execution_count": 11,
     "metadata": {},
     "output_type": "execute_result"
    }
   ],
   "source": [
    "## Push to Carto\n",
    "to_carto(inc, 'inc', if_exists='replace')"
   ]
  },
  {
   "cell_type": "code",
   "execution_count": null,
   "id": "9bbd6790",
   "metadata": {},
   "outputs": [],
   "source": []
  },
  {
   "cell_type": "code",
   "execution_count": 30,
   "id": "eb9a04a8",
   "metadata": {},
   "outputs": [],
   "source": [
    "## URL output loop to check pulling correctly"
   ]
  },
  {
   "cell_type": "code",
   "execution_count": 14,
   "id": "a859d898",
   "metadata": {},
   "outputs": [
    {
     "name": "stdout",
     "output_type": "stream",
     "text": [
      "https://api.census.gov/data/2011/acs/acs5/?get=NAME,B17026_001E,B19001_001E,B19013_001E,B19025_001E,B19083_001E,B19101_001E,B19113_001E,B19301_001E,B01003_001E&for=zip%20code%20tabulation%20area:33010,33012,33013,33014,33015,33016,33018,33030,33031,33032,33033,33034,33035,33039,33054,33055,33056,33101,33109,33122,33125,33126,33127,33128,33129,33130,33131,33132,33133,33134,33135,33136,33137,33138,33139,33140,33141,33142,33143,33144,33145,33146,33147,33149,33150,33154,33155,33156,33157,33158,33160,33161,33162,33165,33166,33167,33168,33169,33170,33172,33173,33174,33175,33176,33177,33178,33179,33180,33181,33182,33183,33184,33185,33186,33187,33189,33190,33193,33194,33196&for=county:086&in=state:12&key=5ac177d9ef065948cac225addd7cec7ad4945850\n"
     ]
    }
   ],
   "source": [
    "lfp = pd.DataFrame()\n",
    "\n",
    "## Zip Code level geography not supported prior to 2011\n",
    "for y in range(2011, 2012):\n",
    "    \n",
    "    HOST = \"https://api.census.gov/data\"\n",
    "    year = str(y)\n",
    "    dataset = 'acs/acs5'\n",
    "    type_ = '?get='\n",
    "    base_url = \"/\".join([HOST, year, dataset, type_])#, get_vars, location])\n",
    "    \n",
    "    var = 'NAME,B23025_001E,B23025_002E,B23025_003E,B23025_004E,B23025_005E,B23025_006E,B23025_007E'\n",
    "    \n",
    "    loc = '&for=zip%20code%20tabulation%20area:'+','.join(map(str,zips))+'&for=county:086&in=state:12'\n",
    "    \n",
    "    k = '&key='+key\n",
    "    \n",
    "    full_url = base_url + var + loc + k\n",
    "    \n",
    "    print(full_url)"
   ]
  }
 ],
 "metadata": {
  "kernelspec": {
   "display_name": "Python 3 (ipykernel)",
   "language": "python",
   "name": "python3"
  },
  "language_info": {
   "codemirror_mode": {
    "name": "ipython",
    "version": 3
   },
   "file_extension": ".py",
   "mimetype": "text/x-python",
   "name": "python",
   "nbconvert_exporter": "python",
   "pygments_lexer": "ipython3",
   "version": "3.8.8"
  }
 },
 "nbformat": 4,
 "nbformat_minor": 5
}
